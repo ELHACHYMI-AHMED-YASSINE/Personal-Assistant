{
 "cells": [
  {
   "cell_type": "code",
   "execution_count": 14,
   "id": "201881f5",
   "metadata": {},
   "outputs": [],
   "source": [
    "import speech_recognition as sr\n",
    "\n",
    "\n",
    "def speaxh_to_text():\n",
    "    r = sr.Recognizer()\n",
    "    with sr.AudioFile('record.wav') as source:\n",
    "        audio_text = r.listen(source)\n",
    "        global text \n",
    "        try:\n",
    "            text = r.recognize_google(audio_text)\n",
    "            print('Converting audio transcripts into text ...')\n",
    "            print(text)\n",
    "        except:\n",
    "            text='Sorry run again'\n",
    "            print(text)\n",
    "        #print(text)\n",
    "        res=text\n",
    "        return res"
   ]
  },
  {
   "cell_type": "code",
   "execution_count": 15,
   "id": "a596e880",
   "metadata": {},
   "outputs": [
    {
     "name": "stdout",
     "output_type": "stream",
     "text": [
      "Converting audio transcripts into text ...\n",
      "start\n"
     ]
    },
    {
     "data": {
      "text/plain": [
       "'start'"
      ]
     },
     "execution_count": 15,
     "metadata": {},
     "output_type": "execute_result"
    }
   ],
   "source": [
    "speaxh_to_text()"
   ]
  },
  {
   "cell_type": "code",
   "execution_count": null,
   "id": "c381d43f",
   "metadata": {},
   "outputs": [],
   "source": []
  }
 ],
 "metadata": {
  "kernelspec": {
   "display_name": "Python 3 (ipykernel)",
   "language": "python",
   "name": "python3"
  },
  "language_info": {
   "codemirror_mode": {
    "name": "ipython",
    "version": 3
   },
   "file_extension": ".py",
   "mimetype": "text/x-python",
   "name": "python",
   "nbconvert_exporter": "python",
   "pygments_lexer": "ipython3",
   "version": "3.10.2"
  }
 },
 "nbformat": 4,
 "nbformat_minor": 5
}
